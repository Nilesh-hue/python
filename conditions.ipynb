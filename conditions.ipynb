{
 "cells": [
  {
   "cell_type": "markdown",
   "metadata": {},
   "source": [
    "If conditionnal statements"
   ]
  },
  {
   "cell_type": "code",
   "execution_count": 2,
   "metadata": {},
   "outputs": [
    {
     "name": "stdout",
     "output_type": "stream",
     "text": [
      "A\n",
      "B\n",
      "Fail\n"
     ]
    }
   ],
   "source": [
    "marks =75\n",
    "if marks >= 90:\n",
    "    print (\"A+\")\n",
    "if marks >= 70:\n",
    "    print (\"A\")\n",
    "if marks >= 50:\n",
    "    print (\"B\")\n",
    "if marks > 50:\n",
    "    print (\"Fail\")    \n",
    "else:\n",
    "    print (\"Success\")\n",
    "              "
   ]
  },
  {
   "cell_type": "markdown",
   "metadata": {},
   "source": [
    "elif conditonal statements"
   ]
  },
  {
   "cell_type": "code",
   "execution_count": 5,
   "metadata": {},
   "outputs": [
    {
     "name": "stdout",
     "output_type": "stream",
     "text": [
      "A\n"
     ]
    }
   ],
   "source": [
    "marks =75\n",
    "if marks >= 90:\n",
    "    print (\"A+\")\n",
    "elif marks >= 70:\n",
    "    print (\"A\")\n",
    "elif marks >= 50:\n",
    "    print (\"B\")\n",
    "elif marks < 50:\n",
    "    print (\"Fail\")\n",
    "else:\n",
    "    print (\"Invalid marks\")            "
   ]
  },
  {
   "cell_type": "code",
   "execution_count": 5,
   "metadata": {},
   "outputs": [
    {
     "name": "stdout",
     "output_type": "stream",
     "text": [
      " you can vote\n"
     ]
    }
   ],
   "source": [
    "age= 34\n",
    "if age >=18:\n",
    "    print(\" you can vote\" )\n",
    "else:\n",
    "    print(\"You can't vote\")\n",
    "    "
   ]
  },
  {
   "cell_type": "markdown",
   "metadata": {},
   "source": [
    "Question\n",
    "check whether a number is positive or negative\n",
    "check whether a even is odd\n",
    "check whether a triangle is equilateral or icsoceles\n",
    "enter a character by user and check whether it is a vowel or not\n",
    "take a list of 10 apps and check whether \"Zomato\" is in the list or not\n",
    "check whether two sides entered by user are equal or not"
   ]
  },
  {
   "cell_type": "markdown",
   "metadata": {},
   "source": [
    "check whether a number is positive or negative"
   ]
  },
  {
   "cell_type": "code",
   "execution_count": 18,
   "metadata": {},
   "outputs": [
    {
     "name": "stdout",
     "output_type": "stream",
     "text": [
      "-1 is a Negative number \n"
     ]
    }
   ],
   "source": [
    "num = int(input('Enter the number'))\n",
    "if num > 0:\n",
    "    print(num,\"is a Positive number \")\n",
    "else:\n",
    "    print(num,\"is a Negative number \")"
   ]
  },
  {
   "cell_type": "markdown",
   "metadata": {},
   "source": [
    "check whether a even is odd"
   ]
  },
  {
   "cell_type": "code",
   "execution_count": 16,
   "metadata": {},
   "outputs": [
    {
     "name": "stdout",
     "output_type": "stream",
     "text": [
      "5 is odd\n"
     ]
    }
   ],
   "source": [
    "num1 = int(input('Enter the number'))\n",
    "if num1 % 2 == 0:\n",
    "    print(num1 ,\"is even\")\n",
    "else:\n",
    "    print(num1,\"is odd\")\n",
    "\n",
    "    "
   ]
  },
  {
   "cell_type": "markdown",
   "metadata": {},
   "source": [
    "check whether a triangle is equilateral or icsoceles"
   ]
  },
  {
   "cell_type": "code",
   "execution_count": 41,
   "metadata": {},
   "outputs": [
    {
     "name": "stdout",
     "output_type": "stream",
     "text": [
      "It is an isosceles triangle\n"
     ]
    }
   ],
   "source": [
    "sideA = 4\n",
    "sideB = 3\n",
    "sideC = 4\n",
    "if sideA == sideB == sideC:\n",
    "    print(\" It is an equilateral triangle\")\n",
    "elif sideA == sideB or sideA == sideC or sideB == sideC:\n",
    "    print(\"It is an isosceles triangle\")\n"
   ]
  },
  {
   "cell_type": "markdown",
   "metadata": {},
   "source": [
    "enter a character by user and check whether it is a vowel or not"
   ]
  },
  {
   "cell_type": "code",
   "execution_count": 4,
   "metadata": {},
   "outputs": [
    {
     "name": "stdout",
     "output_type": "stream",
     "text": [
      "v is not a vowel\n"
     ]
    }
   ],
   "source": [
    "\n",
    "Vowels = [\"a\",\"e\",\"i\",\"o\",\"u\"]\n",
    "char = input(\"Enter a character\")\n",
    "if char in Vowels:\n",
    "    print(char,\"is a vowel\")\n",
    "else:    \n",
    "    print(char,\"is not a vowel\")    \n"
   ]
  },
  {
   "cell_type": "markdown",
   "metadata": {},
   "source": [
    "take a list of 10 apps and check whether \"Zomato\" is in the list or not"
   ]
  },
  {
   "cell_type": "code",
   "execution_count": 1,
   "metadata": {},
   "outputs": [
    {
     "name": "stdout",
     "output_type": "stream",
     "text": [
      "Zomato is in the list\n"
     ]
    }
   ],
   "source": [
    "appsNames= [\"Swiggy\", \"Zomato\", \"Instagram\", \"Twitter\", \"Google\",\"Youtube\", \"Studio\", \"Ubereats\", \"Snapchat\",\"Telegram\"]\n",
    "\"Zomato\" in appsNames\n",
    "print(\"Zomato is in the list\")"
   ]
  },
  {
   "cell_type": "markdown",
   "metadata": {},
   "source": [
    "check whether two sides entered by user are equal or not"
   ]
  },
  {
   "cell_type": "code",
   "execution_count": 7,
   "metadata": {},
   "outputs": [
    {
     "name": "stdout",
     "output_type": "stream",
     "text": [
      "both sides are equal\n"
     ]
    }
   ],
   "source": [
    "sideA = input('Enter the first side')\n",
    "sideB = input('Enter the second side')  \n",
    "if sideA == sideB:\n",
    "    print(\"both sides are equal\")\n",
    "else:\n",
    "        print(\"both sides are not equal\")\n"
   ]
  },
  {
   "cell_type": "markdown",
   "metadata": {},
   "source": [
    "WAP to calculate electricity bill (accept the unit from user)\n",
    "with the criteria such as\n",
    "first 100 units   0 rs per unit\n",
    "next 100 units    5 rs per unit\n",
    "after 200 units   10 rs per unit"
   ]
  },
  {
   "cell_type": "code",
   "execution_count": 1,
   "metadata": {},
   "outputs": [
    {
     "name": "stdout",
     "output_type": "stream",
     "text": [
      "Your bill is 1000\n"
     ]
    }
   ],
   "source": [
    "unitConsumed= int(input('Enter the unit consumed'))\n",
    "if unitConsumed <= 100:\n",
    "    bill = 0\n",
    "if unitConsumed > 100 and unitConsumed <= 200:\n",
    "    bill = (unitConsumed - 100) * 5\n",
    "if unitConsumed > 200:\n",
    "    bill = 100 * 5 + (unitConsumed - 200) * 10\n",
    "print(\"Your bill is\",bill)"
   ]
  }
 ],
 "metadata": {
  "kernelspec": {
   "display_name": "base",
   "language": "python",
   "name": "python3"
  },
  "language_info": {
   "codemirror_mode": {
    "name": "ipython",
    "version": 3
   },
   "file_extension": ".py",
   "mimetype": "text/x-python",
   "name": "python",
   "nbconvert_exporter": "python",
   "pygments_lexer": "ipython3",
   "version": "3.12.4"
  }
 },
 "nbformat": 4,
 "nbformat_minor": 2
}
